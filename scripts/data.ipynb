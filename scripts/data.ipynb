{
 "cells": [
  {
   "cell_type": "code",
   "execution_count": 64,
   "id": "47a9050e-9dda-4735-aa05-224e487b6ea6",
   "metadata": {},
   "outputs": [],
   "source": [
    "import numpy as np\n",
    "import pandas as pd\n",
    "import pyarrow as pa\n",
    "import pyarrow.parquet as pq\n",
    "import os\n",
    "import argparse\n",
    "import random\n",
    "import torchaudio\n",
    "import pyloudnorm as pyln\n",
    "import glob\n",
    "\n",
    "n = 1\n",
    "table = pq.read_table(os.path.join('..', 'data', f'out-{n}-600.parquet')).to_pandas()\n",
    "samples, rate = torchaudio.load(f'../data/out-{n}-600.mp3')\n",
    "\n",
    "def find_splits(min_frames=30, min_pause_frames=20):\n",
    "    last_i = 0\n",
    "    last_split = 0\n",
    "    last_dur = 0\n",
    "    max_i = table.shape[0]\n",
    "    splits = []\n",
    "    for i in range(max_i):\n",
    "        if table['label'][i] == 'Neutral':\n",
    "            fi = int(table['frame'][i])\n",
    "            fi2 = int(table['frame'][i + 1]) if i < max_i - 1 else 0\n",
    "            dur = fi2 - fi\n",
    "            if i > 0 and i < max_i - 1 and dur > min_pause_frames and fi - last_split >= min_frames:\n",
    "                splits.append([last_split + last_dur // 2, fi + dur // 2])\n",
    "                data = table[last_split:i]\n",
    "                last_i = i\n",
    "                last_split = fi\n",
    "                last_dur = fi2 - fi\n",
    "    return splits\n",
    "\n",
    "def extract(start, end):\n",
    "    pass\n"
   ]
  },
  {
   "cell_type": "code",
   "execution_count": 66,
   "id": "5bc2cab1-1db8-4399-a96a-b7c23c7cb701",
   "metadata": {},
   "outputs": [
    {
     "data": {
      "text/plain": [
       "[[0, 19311]]"
      ]
     },
     "execution_count": 66,
     "metadata": {},
     "output_type": "execute_result"
    }
   ],
   "source": [
    "find_splits(81, 189)"
   ]
  },
  {
   "cell_type": "code",
   "execution_count": null,
   "id": "eaa92881-20dc-4731-8c4a-c2c99cffa0df",
   "metadata": {},
   "outputs": [],
   "source": []
  }
 ],
 "metadata": {
  "kernelspec": {
   "display_name": "Python 3 (ipykernel)",
   "language": "python",
   "name": "python3"
  },
  "language_info": {
   "codemirror_mode": {
    "name": "ipython",
    "version": 3
   },
   "file_extension": ".py",
   "mimetype": "text/x-python",
   "name": "python",
   "nbconvert_exporter": "python",
   "pygments_lexer": "ipython3",
   "version": "3.12.2"
  }
 },
 "nbformat": 4,
 "nbformat_minor": 5
}
