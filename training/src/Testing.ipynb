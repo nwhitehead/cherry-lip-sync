{
 "cells": [
  {
   "cell_type": "code",
   "execution_count": null,
   "id": "10e7b0d1-c4dd-4566-976c-a06f5deba4e7",
   "metadata": {},
   "outputs": [],
   "source": [
    "from data import LipsyncDataset\n",
    "import torch\n",
    "from torch import nn\n",
    "from data import AudioMFCC, CustomMFCC\n",
    "import matplotlib.pyplot as plt\n",
    "import torchaudio\n",
    "import numpy as np\n",
    "from torch import Tensor\n",
    "from torchaudio.transforms import AmplitudeToDB, MelSpectrogram\n",
    "import torchaudio.functional as F"
   ]
  },
  {
   "cell_type": "code",
   "execution_count": null,
   "id": "3d1723ad-489a-4501-969a-ff329002736c",
   "metadata": {},
   "outputs": [],
   "source": [
    "dataset = LipsyncDataset('../data/lipsync.parquet')"
   ]
  },
  {
   "cell_type": "code",
   "execution_count": null,
   "id": "0a97e136-6da5-404f-8423-8d142a7053a8",
   "metadata": {},
   "outputs": [],
   "source": [
    "#audio_raw = dataset[0]['audio']\n",
    "waveform, sr = torchaudio.load(\"hello_16000.wav\")\n",
    "rwaveform = waveform #torchaudio.functional.resample(waveform, sr, 16000)\n",
    "print(waveform.shape)\n",
    "\n",
    "audio_raw = rwaveform.reshape([-1])\n",
    "audio_mfcc = AudioMFCC()({ 'audio': audio_raw, 'visemes': [] })['audio'][:26, :]"
   ]
  },
  {
   "cell_type": "code",
   "execution_count": null,
   "id": "4a61631e-4bfb-4e73-8fb1-8974d7c92f4d",
   "metadata": {},
   "outputs": [],
   "source": [
    "audio_raw.shape, audio_mfcc.shape, (audio_raw.shape[0] / 16000 - 25e-3)/ (10e-3)"
   ]
  },
  {
   "cell_type": "code",
   "execution_count": null,
   "id": "b77c3a7e-7996-409f-b038-55c003c45909",
   "metadata": {},
   "outputs": [],
   "source": [
    "def plot_spectrogram(specgram, title=None, xlabel=\"time\", ylabel=\"freq\"):\n",
    "    _, ax = plt.subplots(1, 1)\n",
    "    ax.set_ylabel(ylabel)\n",
    "    ax.set_xlabel(xlabel)\n",
    "    ax.imshow(specgram, origin=\"lower\", aspect=\"auto\", interpolation=\"nearest\")"
   ]
  },
  {
   "cell_type": "code",
   "execution_count": null,
   "id": "0fac1197-ef21-447a-8e1d-7a1d752147f1",
   "metadata": {},
   "outputs": [],
   "source": [
    "def mfcc(samples, audio_rate=16000, num_mels=13, window_time=25e-3, hop_time=10e-3):\n",
    "    window_length = round(window_time * audio_rate)\n",
    "    hop_length = round(hop_time * audio_rate)\n",
    "    melkwargs = {\n",
    "        \"n_fft\": window_length,\n",
    "        \"win_length\": window_length,\n",
    "        \"hop_length\": hop_length,\n",
    "        \"n_mels\": num_mels,\n",
    "        \"center\": False,\n",
    "    }\n",
    "    custommfcc = CustomMFCC(sample_rate=audio_rate, n_mfcc=num_mels, melkwargs=melkwargs)\n",
    "    ms = custommfcc.MelSpectrogram.mel_scale\n",
    "    a = custommfcc(samples)\n",
    "    d = np.array([0.5, 0.5, -0.5, -0.5])\n",
    "    x = a.numpy()\n",
    "    delta_a = np.apply_along_axis(np.convolve, axis=1, arr=x, v=d, mode='same')\n",
    "    # Stack everything\n",
    "    return torch.cat((a, torch.tensor(delta_a))).to(torch.float)\n",
    "    #return a.to(torch.float)\n"
   ]
  },
  {
   "cell_type": "code",
   "execution_count": null,
   "id": "c8179eae-6578-491f-9af9-6440e3c5a2b8",
   "metadata": {},
   "outputs": [],
   "source": [
    "x = np.array([[1, 2, 3, 4], [3, 2, 2, 1]])\n",
    "d = np.array([0, 0, -1, -1])\n",
    "delta = np.apply_along_axis(np.convolve, axis=1, arr=x, v=d, mode='same')\n",
    "delta"
   ]
  },
  {
   "cell_type": "code",
   "execution_count": null,
   "id": "bb18d6b5-080b-459f-9d43-eb9938bfd89c",
   "metadata": {},
   "outputs": [],
   "source": [
    "plot_spectrogram(mfcc(audio_raw))"
   ]
  },
  {
   "cell_type": "code",
   "execution_count": null,
   "id": "136b8335-93bd-429f-9a6a-c617c20338de",
   "metadata": {},
   "outputs": [],
   "source": [
    "plot_spectrogram(audio_mfcc)"
   ]
  },
  {
   "cell_type": "code",
   "execution_count": null,
   "id": "f26e1f77-91cb-4b52-a77e-3e472655b4d6",
   "metadata": {},
   "outputs": [],
   "source": [
    "(mfcc(audio_raw) - audio_mfcc).sum()"
   ]
  },
  {
   "cell_type": "code",
   "execution_count": null,
   "id": "18096284-b2a7-4ab8-89ad-5cf54e32c904",
   "metadata": {},
   "outputs": [],
   "source": [
    "import torch\n",
    "torch.hann_window(5)"
   ]
  },
  {
   "cell_type": "code",
   "execution_count": null,
   "id": "5a2fbf8a-f33b-4e9a-aa97-d96ae285924c",
   "metadata": {},
   "outputs": [],
   "source": [
    "def mfcc2(samples, audio_rate=16000, num_mels=13, window_time=25e-3, hop_time=10e-3):\n",
    "    window_length = round(window_time * audio_rate)\n",
    "    fft_length = window_length // 2 + 1\n",
    "    hop_length = round(hop_time * audio_rate)\n",
    "    n = len(range(0, samples.shape[0] - window_length, hop_length))\n",
    "    a = torch.zeros(num_mels, n)\n",
    "    melbank = F.melscale_fbanks(fft_length, 0.0, audio_rate / 2.0, num_mels, audio_rate, None, 'htk')\n",
    "    torch.save({ 'test': melbank }, 'melbank.pt')\n",
    "    hann = torch.hann_window(window_length, periodic=True)\n",
    "\n",
    "    def ms(x, debug=False):\n",
    "        # Window with hann window\n",
    "        #print(f\"x = {x.shape} {x}\")\n",
    "        wx = x * hann\n",
    "        # Do FFT, then do |fft|^2 to get power\n",
    "        fx = torch.fft.fft(wx).abs().pow(2.0)[:201]\n",
    "        if debug:\n",
    "            print(f\"pwr = {fx}\");\n",
    "        # fx is shape [201]\n",
    "        # melbank is shape [201, 13]\n",
    "        mx = torch.matmul(fx, melbank)\n",
    "        # mx is [13]\n",
    "        return mx.unsqueeze(1)\n",
    "    \n",
    "    def adb(x):\n",
    "        return torch.log10(torch.clamp(x, min=1e-10)) * 10.0\n",
    "\n",
    "    for i in range(n):\n",
    "        offset = i * hop_length\n",
    "        slc = torch.zeros(window_length)\n",
    "        slc[:min(window_length, samples.shape[0] - offset)] = samples[offset:offset + window_length]\n",
    "        msx = ms(slc, False)\n",
    "        slc_m = adb(msx)\n",
    "        a[:, i] = slc_m[:, 0]\n",
    "\n",
    "    return a\n",
    "\n",
    "#mfcc2(audio_raw)[:, 50], audio_mfcc[:, 50]\n",
    "mfcc2(audio_raw)[:, 0], audio_mfcc[:, 0]"
   ]
  },
  {
   "cell_type": "code",
   "execution_count": null,
   "id": "ed8b12e0-b26f-4e95-80b3-a3ea13253da3",
   "metadata": {},
   "outputs": [],
   "source": [
    "audio_mfcc[:, 50]"
   ]
  },
  {
   "cell_type": "code",
   "execution_count": null,
   "id": "9b9ad9a4-e27f-421a-b355-a07a594a59c9",
   "metadata": {},
   "outputs": [],
   "source": []
  },
  {
   "cell_type": "code",
   "execution_count": null,
   "id": "748bb351-8c93-4ed8-8057-c66b6a39b292",
   "metadata": {},
   "outputs": [],
   "source": [
    "y = torch.fft.fft(torch.tensor([1, 2, 3, 4, 5, 6, 7, 8]))\n",
    "y.abs().pow(2.0)"
   ]
  },
  {
   "cell_type": "code",
   "execution_count": null,
   "id": "3dbdfa2e-2fc5-4d1b-b3c5-73a1a11fc128",
   "metadata": {},
   "outputs": [],
   "source": [
    "fb = F.melscale_fbanks(400, 0.0, 8000.0, 13, 16000, None, 'htk')"
   ]
  },
  {
   "cell_type": "code",
   "execution_count": null,
   "id": "ee4d953c-bfca-4d3c-bc38-b955fcf926b1",
   "metadata": {},
   "outputs": [],
   "source": [
    "fb"
   ]
  },
  {
   "cell_type": "code",
   "execution_count": null,
   "id": "2681a339-4dbd-4d74-a0e1-82d0c9056e6f",
   "metadata": {},
   "outputs": [],
   "source": [
    "torch.hann_window(10)"
   ]
  },
  {
   "cell_type": "code",
   "execution_count": null,
   "id": "58da6209-f6ea-453c-aa49-ae1bc448d2cd",
   "metadata": {},
   "outputs": [],
   "source": [
    "25e-3*16e3"
   ]
  },
  {
   "cell_type": "code",
   "execution_count": null,
   "id": "ff70869a-281f-467d-90f4-cdb10dbd2558",
   "metadata": {},
   "outputs": [],
   "source": []
  }
 ],
 "metadata": {
  "kernelspec": {
   "display_name": "Python 3 (ipykernel)",
   "language": "python",
   "name": "python3"
  },
  "language_info": {
   "codemirror_mode": {
    "name": "ipython",
    "version": 3
   },
   "file_extension": ".py",
   "mimetype": "text/x-python",
   "name": "python",
   "nbconvert_exporter": "python",
   "pygments_lexer": "ipython3",
   "version": "3.12.2"
  }
 },
 "nbformat": 4,
 "nbformat_minor": 5
}
