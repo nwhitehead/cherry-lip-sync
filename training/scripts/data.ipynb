{
 "cells": [
  {
   "cell_type": "code",
   "execution_count": null,
   "id": "47a9050e-9dda-4735-aa05-224e487b6ea6",
   "metadata": {},
   "outputs": [],
   "source": [
    "import numpy as np\n",
    "import pandas as pd\n",
    "import pyarrow as pa\n",
    "import pyarrow.parquet as pq\n",
    "import os\n",
    "import argparse\n",
    "import random\n",
    "import torchaudio\n",
    "import pyloudnorm as pyln\n",
    "import glob\n",
    "from IPython.display import Audio\n",
    "\n",
    "n = 2\n",
    "fps = 30\n",
    "table = pq.read_table(os.path.join('..', 'data', f'out-{n}-600.parquet')).to_pandas()\n",
    "samples, rate = torchaudio.load(f'../data/out-{n}-600.mp3')\n",
    "samples = samples.numpy()[0]\n",
    "\n",
    "# Sorted\n",
    "viseme_labels = ['Ah', 'D', 'Ee', 'F', 'L', 'M', 'Neutral', 'Oh', 'R', 'S', 'Uh', 'Woo']\n",
    "\n",
    "def find_splits(min_frames=30, min_pause_frames=20):\n",
    "    last_i = 0\n",
    "    last_split = 0\n",
    "    last_dur = 0\n",
    "    max_i = table.shape[0]\n",
    "    splits = []\n",
    "    for i in range(max_i):\n",
    "        if table['label'][i] == 'Neutral':\n",
    "            fi = int(table['frame'][i])\n",
    "            fi2 = int(table['frame'][i + 1]) if i < max_i - 1 else 0\n",
    "            dur = fi2 - fi\n",
    "            if i > 0 and i < max_i - 1 and dur > min_pause_frames and fi - last_split >= min_frames:\n",
    "                splits.append([last_split + last_dur // 2, fi + dur // 2])\n",
    "                data = table[last_split:i]\n",
    "                last_i = i\n",
    "                last_split = fi\n",
    "                last_dur = fi2 - fi\n",
    "    return splits\n",
    "\n",
    "def extract_samples(start, end, padding=10):\n",
    "    start_sample = round(start / fps * rate)\n",
    "    end_sample = round(end / fps * rate)\n",
    "    padding_len = round(padding / fps * rate)\n",
    "    pad = np.zeros((padding_len,), dtype='float32')\n",
    "    res = np.concatenate([pad, samples[start_sample:end_sample], pad])\n",
    "    desired_len = round((end - start + 2 * padding) / fps * rate)\n",
    "    extra_padding = desired_len - res.shape[0]\n",
    "    if extra_padding > 0:\n",
    "        res = np.concatenate([res, np.zeros((extra_padding,), dtype='float32')])\n",
    "    return res\n",
    "\n",
    "def extract_visemes(start, end, padding=10):\n",
    "    symbols = table[(table['frame'] >= start) & (table['frame'] < end)].copy()\n",
    "    symbols['frame'] -= start\n",
    "    symbols['frame'] += padding\n",
    "    return pd.concat([pd.DataFrame([{ 'frame': 0, 'label': 'Neutral' }]), symbols], ignore_index=True)\n",
    "\n",
    "def extract_all(padding=10):\n",
    "    entries = []\n",
    "    neutral = viseme_labels.index('Neutral')\n",
    "    for start, end in find_splits():\n",
    "        total_len = end - start + padding * 2\n",
    "        samples = extract_samples(start, end, padding=padding)\n",
    "        visemes = extract_visemes(start, end, padding=padding)\n",
    "        viseme_frames = visemes['frame'].values.tolist() + [total_len]\n",
    "        viseme_numbers = [viseme_labels.index(x) for x in visemes['label'].values] + [neutral]\n",
    "        frames = []\n",
    "        last_frame = 0\n",
    "        last_num = -1\n",
    "        for frame, num in zip(viseme_frames, viseme_numbers):\n",
    "            frames.extend([int(last_num)] * (frame - last_frame))\n",
    "            last_frame = frame\n",
    "            last_num = num\n",
    "        # print(list(zip(viseme_frames, viseme_numbers)))\n",
    "        # print('F', start, end, len(frames), frames)\n",
    "        assert frames[0] == neutral\n",
    "        assert frames[-1] == neutral\n",
    "        assert len(frames) == total_len\n",
    "        #print(start, end, samples.shape[0], round(total_len / fps * rate))\n",
    "        assert samples.shape[0] == round(total_len / fps * rate)\n",
    "        entries.append({ 'audio': samples, 'visemes': frames })\n",
    "        # print(entries[-1])\n",
    "    return pd.DataFrame(entries)\n"
   ]
  },
  {
   "cell_type": "code",
   "execution_count": null,
   "id": "ba721e05-919b-4898-ade2-e43f8b369039",
   "metadata": {},
   "outputs": [],
   "source": [
    "data = extract_all()\n",
    "data"
   ]
  },
  {
   "cell_type": "code",
   "execution_count": null,
   "id": "eaa92881-20dc-4731-8c4a-c2c99cffa0df",
   "metadata": {},
   "outputs": [],
   "source": [
    "Audio(data['audio'][0], rate=rate)"
   ]
  },
  {
   "cell_type": "code",
   "execution_count": null,
   "id": "84de979a-0ef1-4fc7-b70e-bc938792d1f2",
   "metadata": {},
   "outputs": [],
   "source": [
    "final = pd.concat([data, data])"
   ]
  },
  {
   "cell_type": "code",
   "execution_count": null,
   "id": "8e2fc17e-424b-4b47-8614-f518a5d09aa9",
   "metadata": {},
   "outputs": [],
   "source": [
    "final.to_parquet"
   ]
  },
  {
   "cell_type": "code",
   "execution_count": null,
   "id": "5c65f8c6-acca-45d3-8e58-f68549a6a93b",
   "metadata": {},
   "outputs": [],
   "source": []
  }
 ],
 "metadata": {
  "kernelspec": {
   "display_name": "Python 3 (ipykernel)",
   "language": "python",
   "name": "python3"
  },
  "language_info": {
   "codemirror_mode": {
    "name": "ipython",
    "version": 3
   },
   "file_extension": ".py",
   "mimetype": "text/x-python",
   "name": "python",
   "nbconvert_exporter": "python",
   "pygments_lexer": "ipython3",
   "version": "3.12.2"
  }
 },
 "nbformat": 4,
 "nbformat_minor": 5
}
